{
  "cells": [
    {
      "metadata": {
        "trusted": true
      },
      "cell_type": "code",
      "source": "import ipywidgets as widgets\nimport pandas as pd\nimport requests\nimport json\nfrom IPython.display import clear_output\nfrom sklearn.externals import joblib\n\ncounter = 0\nscores = []\n# modelTest =joblib.load('movielens_sar_model.pkl')\nmostPopular =modelTest.get_popularity_based_topk(top_k=30,sort_top_k=True).join(data[['MovieId', 'Title']].drop_duplicates().set_index('MovieId'), \n                                on='MovieId', \n                                how='inner')[['MovieId','Title']].sample(5)\nstyle = {'description_width': 'initial'}\n# title= widgets.Label(\"Let's rate a few popular movies\",value = r'\\(\\color{red} {highlighted}\\)')\ntitle= widgets.Label(\"Let's rate a few popular movies\")\nmovie =widgets.RadioButtons(\n    options=[1.0,2.0,3.0,4.0,5.0],\n    value=3.0,\n    description= str(counter+1) + \". \" +str(mostPopular.iloc[0,1])+ ':',\n    disabled=False,\n    style=style\n)\nbutton = widgets.Button(description='Next', style = style)\ndef on_button_clicked(b):\n    global counter\n    global scores \n    global movie\n    global button\n    global title\n\n    scores.append(movie.value)\n    if counter <4:\n        movie =widgets.RadioButtons(\n        options=[1.0,2.0,3.0,4.0,5.0],\n        value=3.0,\n        description= str(counter+2) + \". \" + str(mostPopular.iloc[counter+1,1])+ ':',\n        disabled=False,\n        style=style\n        )\n        vbox.children = [title,movie,button]\n\n    if counter ==3:\n        button.description = \"Submit\"\n        button.style.button_color = 'lightgreen'\n    if counter ==4:\n        clear_output()\n        title = widgets.Label(\"Here are the recommended movies based on your ratings.\", style=style)\n        display(title)\n        d = {'MovieId': mostPopular['MovieId'].tolist(), 'Rating': scores}\n        df = pd.DataFrame(data=d).to_json()\n        test_sample_encoded = bytes(df,encoding = 'utf8')\n        scoringURI = \"http://52.147.184.63:80/score\"\n        headers = {'content-type': 'application/json'}\n        # sending post request and saving response as response object \n        similar = requests.post(url = scoringURI, data=test_sample_encoded, headers=headers).json()\n        # similar =service.run(input_data = test_sample_encoded)\n        temp = pd.read_json(similar).join(data[['MovieId', 'Title']].drop_duplicates().set_index('MovieId'), \n                                on='MovieId', \n                                how='inner').sort_values(by=['prediction'], ascending=False)\n        display(temp)\n    counter +=1\n        \nbutton.on_click(on_button_clicked)\nvbox = widgets.VBox([title,movie,button])\ndisplay(vbox)",
      "execution_count": null,
      "outputs": []
    },
    {
      "metadata": {
        "trusted": true
      },
      "cell_type": "code",
      "source": "",
      "execution_count": null,
      "outputs": []
    }
  ],
  "metadata": {
    "kernelspec": {
      "name": "python36",
      "display_name": "Python 3.6",
      "language": "python"
    },
    "language_info": {
      "mimetype": "text/x-python",
      "nbconvert_exporter": "python",
      "name": "python",
      "pygments_lexer": "ipython3",
      "version": "3.6.6",
      "file_extension": ".py",
      "codemirror_mode": {
        "version": 3,
        "name": "ipython"
      }
    }
  },
  "nbformat": 4,
  "nbformat_minor": 2
}