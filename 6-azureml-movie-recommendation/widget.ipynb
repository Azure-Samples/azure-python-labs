{
  "cells": [
    {
      "metadata": {
        "trusted": true
      },
      "cell_type": "code",
      "source": "import pandas as pd\nimport ipywidgets as widgets\nfrom IPython.display import clear_output\nfrom sklearn.externals import joblib\ncounter = 0\nscores = []\nmodelTest =joblib.load('movielens_sar_model.pkl')\nmostPopular =modelTest.get_popularity_based_topk(top_k=30,sort_top_k=True).join(data[['MovieId', 'Title']].drop_duplicates().set_index('MovieId'), \n                                on='MovieId', \n                                how='inner')[['MovieId','Title']].sample(5)\nstyle = {'description_width': 'initial'}\n# title= widgets.Label(\"Let's rate a few popular movies\",value = r'\\(\\color{red} {highlighted}\\)')\ntitle= widgets.Label(\"Let's rate a few popular movies\")\nmovie =widgets.RadioButtons(\n    options=[1.0,2.0,3.0,4.0,5.0],\n    value=3.0,\n    description= str(counter+1) + \". \" +str(mostPopular.iloc[0,1])+ ':',\n    disabled=False,\n    style=style\n)\nbutt = widgets.Button(description='Next', style = style)\ndef on_butt_clicked(b):\n    global counter\n    global scores \n    global movie\n    global butt\n    global title\n\n    scores.append(movie.value)\n    if counter <4:\n        movie =widgets.RadioButtons(\n        options=[1.0,2.0,3.0,4.0,5.0],\n        value=3.0,\n        description= str(counter+2) + \". \" + str(mostPopular.iloc[counter+1,1])+ ':',\n        disabled=False,\n        style=style\n        )\n        vbox.children = [title,movie,butt]\n\n    if counter ==3:\n        butt.description = \"Submit\"\n        butt.style.button_color = 'lightgreen'\n    if counter ==4:\n        clear_output()\n        title = widgets.Label(\"Here are the recommended movies based on your ratings.\", style=style)\n        display(title)\n        d = {'MovieId': mostPopular['MovieId'].tolist(), 'Rating': scores}\n        df = pd.DataFrame(data=d).to_json()\n        test_sample_encoded = bytes(df,encoding = 'utf8')\n        similar =service.run(input_data = test_sample_encoded)\n        temp = pd.read_json(similar).join(data[['MovieId', 'Title']].drop_duplicates().set_index('MovieId'), \n                                on='MovieId', \n                                how='inner').sort_values(by=['prediction'], ascending=False)\n        display(temp)\n    counter +=1\n        \nbutt.on_click(on_butt_clicked)\nvbox = widgets.VBox([title,movie,butt])\ndisplay(vbox)",
      "execution_count": 1,
      "outputs": [
        {
          "output_type": "error",
          "ename": "NameError",
          "evalue": "name 'data' is not defined",
          "traceback": [
            "\u001b[0;31m---------------------------------------------------------------------------\u001b[0m",
            "\u001b[0;31mNameError\u001b[0m                                 Traceback (most recent call last)",
            "\u001b[0;32m<ipython-input-1-d847bb8ea1d4>\u001b[0m in \u001b[0;36m<module>\u001b[0;34m\u001b[0m\n\u001b[1;32m      6\u001b[0m \u001b[0mscores\u001b[0m \u001b[0;34m=\u001b[0m \u001b[0;34m[\u001b[0m\u001b[0;34m]\u001b[0m\u001b[0;34m\u001b[0m\u001b[0m\n\u001b[1;32m      7\u001b[0m \u001b[0mmodelTest\u001b[0m \u001b[0;34m=\u001b[0m\u001b[0mjoblib\u001b[0m\u001b[0;34m.\u001b[0m\u001b[0mload\u001b[0m\u001b[0;34m(\u001b[0m\u001b[0;34m'movielens_sar_model.pkl'\u001b[0m\u001b[0;34m)\u001b[0m\u001b[0;34m\u001b[0m\u001b[0m\n\u001b[0;32m----> 8\u001b[0;31m mostPopular =modelTest.get_popularity_based_topk(top_k=30,sort_top_k=True).join(data[['MovieId', 'Title']].drop_duplicates().set_index('MovieId'), \n\u001b[0m\u001b[1;32m      9\u001b[0m                                 \u001b[0mon\u001b[0m\u001b[0;34m=\u001b[0m\u001b[0;34m'MovieId'\u001b[0m\u001b[0;34m,\u001b[0m\u001b[0;34m\u001b[0m\u001b[0m\n\u001b[1;32m     10\u001b[0m                                 how='inner')[['MovieId','Title']].sample(5)\n",
            "\u001b[0;31mNameError\u001b[0m: name 'data' is not defined"
          ]
        }
      ]
    }
  ],
  "metadata": {
    "kernelspec": {
      "name": "python36",
      "display_name": "Python 3.6",
      "language": "python"
    },
    "language_info": {
      "mimetype": "text/x-python",
      "nbconvert_exporter": "python",
      "name": "python",
      "pygments_lexer": "ipython3",
      "version": "3.6.6",
      "file_extension": ".py",
      "codemirror_mode": {
        "version": 3,
        "name": "ipython"
      }
    }
  },
  "nbformat": 4,
  "nbformat_minor": 2
}