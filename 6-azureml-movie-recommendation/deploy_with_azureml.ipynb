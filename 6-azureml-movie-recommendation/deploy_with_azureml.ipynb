{
  "cells": [
    {
      "metadata": {},
      "cell_type": "markdown",
      "source": "# Deploy to Azure Container Instance\n\nIn this section, we will take the pretrained model from the previous notebook and deploy it to a web service using Azure Container Instance.\n\nThis example shows how to deploy a web service in step-by-step fashion:\n\n- Register model\n- Create Docker image\n- Deploy the image as web service"
    },
    {
      "metadata": {
        "trusted": true
      },
      "cell_type": "code",
      "source": "import sys\nimport os\nimport shutil\nimport numpy as np\n\nfrom reco_utils.dataset import movielens\n\nimport azureml\nfrom azureml.core import Workspace, Run\nfrom azureml.core.model import Model\nfrom azureml.core.conda_dependencies import CondaDependencies \nfrom azureml.core.image import ContainerImage\nfrom azureml.core.webservice import AciWebservice\nfrom azureml.core.webservice import Webservice",
      "execution_count": 20,
      "outputs": []
    },
    {
      "metadata": {},
      "cell_type": "markdown",
      "source": "### Connect to an AzureML workspace\n\nAn [AzureML Workspace](https://docs.microsoft.com/en-us/python/api/azureml-core/azureml.core.workspace.workspace?view=azure-ml-py) is an Azure resource that organizes and coordinates the actions of many other Azure resources to assist in executing and sharing machine learning workflows. In particular, an Azure ML Workspace coordinates storage, databases, and compute resources providing added functionality for machine learning experimentation, deployment, inferencing, and the monitoring of deployed models.\n\nA workspace has already been created for you and a [configuration file](././home/nbuser/library/config.json). Simply load it with ```ws = Workspace.from_config()```. You may be asked to login. Please follow the prompts to \n\n**More information on creating your own workspace can be found in this [this tutorial](https://docs.microsoft.com/en-us/azure/machine-learning/service/setup-create-workspace#portal)."
    },
    {
      "metadata": {
        "trusted": true
      },
      "cell_type": "code",
      "source": "ws = Workspace.from_config()",
      "execution_count": 3,
      "outputs": [
        {
          "output_type": "stream",
          "text": "Warning: Falling back to use azure cli login credentials.\nIf you run your code in unattended mode, i.e., where you can't give a user input, then we recommend to use ServicePrincipalAuthentication or MsiAuthentication.\nPlease refer to aka.ms/aml-notebook-auth for different authentication mechanisms in azureml-sdk.\n",
          "name": "stderr"
        },
        {
          "output_type": "stream",
          "text": "Found the config file in: /home/nbuser/library/config.json\nPerforming interactive authentication. Please follow the instructions on the terminal.\nTo sign in, use a web browser to open the page https://microsoft.com/devicelogin and enter the code FQNXHQ56U to authenticate.\nInteractive authentication successfully completed.\n",
          "name": "stdout"
        }
      ]
    },
    {
      "metadata": {},
      "cell_type": "markdown",
      "source": "### Reminder of the data\nIn the previous notebook, we looked at the Movielens dataset. The dataset contains users' rankings for different movies. You can see a sample below."
    },
    {
      "metadata": {
        "trusted": true
      },
      "cell_type": "code",
      "source": "# download dataset\ndata = movielens.load_pandas_df(\n    size='100k',\n    header=['UserId','MovieId','Rating','Timestamp'],\n    title_col='Title'\n)\ndata.head()",
      "execution_count": 4,
      "outputs": [
        {
          "output_type": "stream",
          "text": "4.93MB [00:01, 4.11MB/s]                            \n",
          "name": "stderr"
        },
        {
          "output_type": "execute_result",
          "execution_count": 4,
          "data": {
            "text/html": "<div>\n<style scoped>\n    .dataframe tbody tr th:only-of-type {\n        vertical-align: middle;\n    }\n\n    .dataframe tbody tr th {\n        vertical-align: top;\n    }\n\n    .dataframe thead th {\n        text-align: right;\n    }\n</style>\n<table border=\"1\" class=\"dataframe\">\n  <thead>\n    <tr style=\"text-align: right;\">\n      <th></th>\n      <th>UserId</th>\n      <th>MovieId</th>\n      <th>Rating</th>\n      <th>Timestamp</th>\n      <th>Title</th>\n    </tr>\n  </thead>\n  <tbody>\n    <tr>\n      <th>0</th>\n      <td>196</td>\n      <td>242</td>\n      <td>3.0</td>\n      <td>881250949</td>\n      <td>Kolya (1996)</td>\n    </tr>\n    <tr>\n      <th>1</th>\n      <td>63</td>\n      <td>242</td>\n      <td>3.0</td>\n      <td>875747190</td>\n      <td>Kolya (1996)</td>\n    </tr>\n    <tr>\n      <th>2</th>\n      <td>226</td>\n      <td>242</td>\n      <td>5.0</td>\n      <td>883888671</td>\n      <td>Kolya (1996)</td>\n    </tr>\n    <tr>\n      <th>3</th>\n      <td>154</td>\n      <td>242</td>\n      <td>3.0</td>\n      <td>879138235</td>\n      <td>Kolya (1996)</td>\n    </tr>\n    <tr>\n      <th>4</th>\n      <td>306</td>\n      <td>242</td>\n      <td>5.0</td>\n      <td>876503793</td>\n      <td>Kolya (1996)</td>\n    </tr>\n  </tbody>\n</table>\n</div>",
            "text/plain": "   UserId  MovieId  Rating  Timestamp         Title\n0     196      242     3.0  881250949  Kolya (1996)\n1      63      242     3.0  875747190  Kolya (1996)\n2     226      242     5.0  883888671  Kolya (1996)\n3     154      242     3.0  879138235  Kolya (1996)\n4     306      242     5.0  876503793  Kolya (1996)"
          },
          "metadata": {}
        }
      ]
    },
    {
      "metadata": {},
      "cell_type": "markdown",
      "source": "### Register the model \nYou can add tags and descriptions to your models. Note you need to have a `movielens_sar_model.pkl` file in the current directory. This file is generated by the `sar_movielens_with_azureml` notebook. The below call registers that file as a model with the name `movielens_sar_model` in the workspace.\n\n**Note: You can change the name of the model, but you will need to update it in the score.py script below. Models are versioned. If you call the register command many times with same model name, you will get multiple versions of the model with increasing version numbers. **"
    },
    {
      "metadata": {
        "trusted": true
      },
      "cell_type": "code",
      "source": "model = Model.register(ws,model_name = 'movielens_sar_model',\n                       model_path = './movielens_sar_model.pkl',\n                       description =\"Building a movie recommendation system\")\nprint(model.name, model.id, model.version, sep = '\\t')",
      "execution_count": 29,
      "outputs": [
        {
          "output_type": "stream",
          "text": "Registering model movielens_sar_model\nmovielens_sar_model\tmovielens_sar_model:12\t12\n",
          "name": "stdout"
        }
      ]
    },
    {
      "metadata": {},
      "cell_type": "markdown",
      "source": "### Create Docker Image\nBelow we create a scoring script that the web service will use to predict new data. Note that the `movielens_sar_model` in the get_model_path call is referring to a model named ``movielens_sar_model`` registered under the workspace. It is NOT referencing the local file."
    },
    {
      "metadata": {
        "trusted": true
      },
      "cell_type": "code",
      "source": "%%writefile score.py\n\nimport json\nimport numpy\nimport numpy as np\nimport pandas as pd\nimport os\nimport pickle\nfrom sklearn.externals import joblib\nfrom azureml.core.model import Model\nfrom reco_utils.dataset import movielens\nfrom reco_utils.dataset.python_splitters import python_random_split\nfrom reco_utils.evaluation.python_evaluation import map_at_k, ndcg_at_k, precision_at_k, recall_at_k\nfrom reco_utils.recommender.sar.sar_singlenode import SARSingleNode\n\n# load the model\ndef init():\n    global model\n    # retrieve the path to the model file using the model name\n    model_path = Model.get_model_path(model_name='movielens_sar_model')\n    model = joblib.load(model_path)\n\n# Passes data to the model and returns the prediction\ndef run(raw_data):\n    # make prediction\n    try: \n        data = raw_data\n        data = pd.read_json(data)\n        return model.get_item_based_topk(items=data, sort_top_k=True).to_json()\n    except Exception as e:\n        error = str(e)\n        return error",
      "execution_count": 14,
      "outputs": [
        {
          "output_type": "stream",
          "text": "Overwriting score.py\n",
          "name": "stdout"
        }
      ]
    },
    {
      "metadata": {
        "trusted": true
      },
      "cell_type": "code",
      "source": "myenv = CondaDependencies()\nmyenv.add_conda_package(\"numpy\")\nmyenv.add_conda_package(\"pandas\")\nmyenv.add_conda_package(\"tqdm\")\nmyenv.add_pip_package('sklearn')\n\nwith open(\"myenv.yml\",\"w\") as f:\n    f.write(myenv.serialize_to_string())",
      "execution_count": 30,
      "outputs": []
    },
    {
      "metadata": {
        "trusted": true
      },
      "cell_type": "code",
      "source": "# Image configuration\nimage_config = ContainerImage.image_configuration(execution_script = \"score.py\",\n                                                 runtime = \"python\",\n                                                 conda_file = \"myenv.yml\",\n                                                 dependencies = [\"reco_utils\"]\n                                                 )",
      "execution_count": 17,
      "outputs": []
    },
    {
      "metadata": {},
      "cell_type": "markdown",
      "source": "**Note that the following command can take a few minutes to run.**"
    },
    {
      "metadata": {
        "trusted": true
      },
      "cell_type": "code",
      "source": "# Register the image from the image configuration\nimage = ContainerImage.create(name = \"myimage\",\n                              models = [model], #this is the model object\n                              image_config = image_config,\n                              workspace = ws\n                              )\nimage.wait_for_creation(show_output = True)",
      "execution_count": 18,
      "outputs": [
        {
          "output_type": "stream",
          "text": "Creating image\nRunning..................................................\nSucceededImage creation operation finished for image myimage:29, operation \"Succeeded\"\n",
          "name": "stdout"
        }
      ]
    },
    {
      "metadata": {},
      "cell_type": "markdown",
      "source": "### Deploy image as web service on Azure Container Instance\n**Note that service creation can take a few minutes to run.**"
    },
    {
      "metadata": {
        "trusted": true
      },
      "cell_type": "code",
      "source": "aciconfig = AciWebservice.deploy_configuration(cpu_cores = 1, \n                                               memory_gb = 1, \n                                               description = 'movielens')",
      "execution_count": 19,
      "outputs": []
    },
    {
      "metadata": {
        "trusted": true
      },
      "cell_type": "code",
      "source": "service_name = 'simlar-movielens-test2'\nservice = Webservice.deploy_from_image(deployment_config = aciconfig,\n                                            image = image,\n                                            name = service_name,\n                                            workspace = ws)\nservice.wait_for_deployment(show_output = True)\nprint(service.state)",
      "execution_count": 22,
      "outputs": [
        {
          "output_type": "stream",
          "text": "Creating service\nRunning.......................\nSucceededACI service creation operation finished, operation \"Succeeded\"\nHealthy\n",
          "name": "stdout"
        }
      ]
    },
    {
      "metadata": {},
      "cell_type": "markdown",
      "source": "### Test out the brand new webservice \nCall the web service with the below widget to get a recommendation of similar movies."
    },
    {
      "metadata": {
        "trusted": true
      },
      "cell_type": "code",
      "source": "%run widget.ipynb",
      "execution_count": 27,
      "outputs": [
        {
          "output_type": "display_data",
          "data": {
            "application/vnd.jupyter.widget-view+json": {
              "model_id": "0435afa50510435393d5bba8094afe92",
              "version_minor": 0,
              "version_major": 2
            },
            "text/plain": "Label(value='Here are the recommended movies based on your ratings.', style=DescriptionStyle(description_width…"
          },
          "metadata": {}
        },
        {
          "output_type": "display_data",
          "data": {
            "text/html": "<div>\n<style scoped>\n    .dataframe tbody tr th:only-of-type {\n        vertical-align: middle;\n    }\n\n    .dataframe tbody tr th {\n        vertical-align: top;\n    }\n\n    .dataframe thead th {\n        text-align: right;\n    }\n</style>\n<table border=\"1\" class=\"dataframe\">\n  <thead>\n    <tr style=\"text-align: right;\">\n      <th></th>\n      <th>MovieId</th>\n      <th>UserId</th>\n      <th>prediction</th>\n      <th>Title</th>\n    </tr>\n  </thead>\n  <tbody>\n    <tr>\n      <th>0</th>\n      <td>50</td>\n      <td>0</td>\n      <td>4.615843</td>\n      <td>Star Wars (1977)</td>\n    </tr>\n    <tr>\n      <th>1</th>\n      <td>174</td>\n      <td>0</td>\n      <td>4.486288</td>\n      <td>Raiders of the Lost Ark (1981)</td>\n    </tr>\n    <tr>\n      <th>2</th>\n      <td>172</td>\n      <td>0</td>\n      <td>4.480662</td>\n      <td>Empire Strikes Back, The (1980)</td>\n    </tr>\n    <tr>\n      <th>3</th>\n      <td>98</td>\n      <td>0</td>\n      <td>4.413595</td>\n      <td>Silence of the Lambs, The (1991)</td>\n    </tr>\n    <tr>\n      <th>4</th>\n      <td>181</td>\n      <td>0</td>\n      <td>4.365086</td>\n      <td>Return of the Jedi (1983)</td>\n    </tr>\n    <tr>\n      <th>5</th>\n      <td>1</td>\n      <td>0</td>\n      <td>4.324029</td>\n      <td>Toy Story (1995)</td>\n    </tr>\n    <tr>\n      <th>6</th>\n      <td>56</td>\n      <td>0</td>\n      <td>4.230594</td>\n      <td>Pulp Fiction (1994)</td>\n    </tr>\n    <tr>\n      <th>7</th>\n      <td>96</td>\n      <td>0</td>\n      <td>4.148080</td>\n      <td>Terminator 2: Judgment Day (1991)</td>\n    </tr>\n    <tr>\n      <th>8</th>\n      <td>121</td>\n      <td>0</td>\n      <td>4.147672</td>\n      <td>Independence Day (ID4) (1996)</td>\n    </tr>\n    <tr>\n      <th>9</th>\n      <td>168</td>\n      <td>0</td>\n      <td>4.124218</td>\n      <td>Monty Python and the Holy Grail (1974)</td>\n    </tr>\n  </tbody>\n</table>\n</div>",
            "text/plain": "   MovieId  UserId  prediction                                   Title\n0       50       0    4.615843                        Star Wars (1977)\n1      174       0    4.486288          Raiders of the Lost Ark (1981)\n2      172       0    4.480662         Empire Strikes Back, The (1980)\n3       98       0    4.413595        Silence of the Lambs, The (1991)\n4      181       0    4.365086               Return of the Jedi (1983)\n5        1       0    4.324029                        Toy Story (1995)\n6       56       0    4.230594                     Pulp Fiction (1994)\n7       96       0    4.148080       Terminator 2: Judgment Day (1991)\n8      121       0    4.147672           Independence Day (ID4) (1996)\n9      168       0    4.124218  Monty Python and the Holy Grail (1974)"
          },
          "metadata": {}
        }
      ]
    },
    {
      "metadata": {},
      "cell_type": "markdown",
      "source": "### Delete ACI to clean up\nIf you want to clean up your workspace and delete the service, you can uncomment the following line of code. "
    },
    {
      "metadata": {
        "trusted": true
      },
      "cell_type": "code",
      "source": "# aci_service.delete()",
      "execution_count": null,
      "outputs": []
    }
  ],
  "metadata": {
    "kernelspec": {
      "name": "python36",
      "display_name": "Python 3.6",
      "language": "python"
    },
    "language_info": {
      "mimetype": "text/x-python",
      "nbconvert_exporter": "python",
      "name": "python",
      "pygments_lexer": "ipython3",
      "version": "3.6.6",
      "file_extension": ".py",
      "codemirror_mode": {
        "version": 3,
        "name": "ipython"
      }
    }
  },
  "nbformat": 4,
  "nbformat_minor": 2
}